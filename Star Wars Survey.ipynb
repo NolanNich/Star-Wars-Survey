{
 "cells": [
  {
   "cell_type": "code",
   "execution_count": 33,
   "metadata": {
    "collapsed": true
   },
   "outputs": [],
   "source": [
    "import pandas as pd\n",
    "import numpy as np\n",
    "import matplotlib.pyplot as plt\n",
    "import seaborn as sns\n",
    "\n",
    "%matplotlib inline\n"
   ]
  },
  {
   "cell_type": "code",
   "execution_count": 34,
   "metadata": {
    "scrolled": true
   },
   "outputs": [
    {
     "data": {
      "text/html": [
       "<div>\n",
       "<style>\n",
       "    .dataframe thead tr:only-child th {\n",
       "        text-align: right;\n",
       "    }\n",
       "\n",
       "    .dataframe thead th {\n",
       "        text-align: left;\n",
       "    }\n",
       "\n",
       "    .dataframe tbody tr th {\n",
       "        vertical-align: top;\n",
       "    }\n",
       "</style>\n",
       "<table border=\"1\" class=\"dataframe\">\n",
       "  <thead>\n",
       "    <tr style=\"text-align: right;\">\n",
       "      <th></th>\n",
       "      <th>RespondentID</th>\n",
       "      <th>Have you seen any of the 6 films in the Star Wars franchise?</th>\n",
       "      <th>Do you consider yourself to be a fan of the Star Wars film franchise?</th>\n",
       "      <th>Which of the following Star Wars films have you seen? Please select all that apply.</th>\n",
       "      <th>Unnamed: 4</th>\n",
       "      <th>Unnamed: 5</th>\n",
       "      <th>Unnamed: 6</th>\n",
       "      <th>Unnamed: 7</th>\n",
       "      <th>Unnamed: 8</th>\n",
       "      <th>Please rank the Star Wars films in order of preference with 1 being your favorite film in the franchise and 6 being your least favorite film.</th>\n",
       "      <th>...</th>\n",
       "      <th>Unnamed: 28</th>\n",
       "      <th>Which character shot first?</th>\n",
       "      <th>Are you familiar with the Expanded Universe?</th>\n",
       "      <th>Do you consider yourself to be a fan of the Expanded Universe?æ</th>\n",
       "      <th>Do you consider yourself to be a fan of the Star Trek franchise?</th>\n",
       "      <th>Gender</th>\n",
       "      <th>Age</th>\n",
       "      <th>Household Income</th>\n",
       "      <th>Education</th>\n",
       "      <th>Location (Census Region)</th>\n",
       "    </tr>\n",
       "  </thead>\n",
       "  <tbody>\n",
       "    <tr>\n",
       "      <th>0</th>\n",
       "      <td>NaN</td>\n",
       "      <td>Response</td>\n",
       "      <td>Response</td>\n",
       "      <td>Star Wars: Episode I  The Phantom Menace</td>\n",
       "      <td>Star Wars: Episode II  Attack of the Clones</td>\n",
       "      <td>Star Wars: Episode III  Revenge of the Sith</td>\n",
       "      <td>Star Wars: Episode IV  A New Hope</td>\n",
       "      <td>Star Wars: Episode V The Empire Strikes Back</td>\n",
       "      <td>Star Wars: Episode VI Return of the Jedi</td>\n",
       "      <td>Star Wars: Episode I  The Phantom Menace</td>\n",
       "      <td>...</td>\n",
       "      <td>Yoda</td>\n",
       "      <td>Response</td>\n",
       "      <td>Response</td>\n",
       "      <td>Response</td>\n",
       "      <td>Response</td>\n",
       "      <td>Response</td>\n",
       "      <td>Response</td>\n",
       "      <td>Response</td>\n",
       "      <td>Response</td>\n",
       "      <td>Response</td>\n",
       "    </tr>\n",
       "    <tr>\n",
       "      <th>1</th>\n",
       "      <td>3.292880e+09</td>\n",
       "      <td>Yes</td>\n",
       "      <td>Yes</td>\n",
       "      <td>Star Wars: Episode I  The Phantom Menace</td>\n",
       "      <td>Star Wars: Episode II  Attack of the Clones</td>\n",
       "      <td>Star Wars: Episode III  Revenge of the Sith</td>\n",
       "      <td>Star Wars: Episode IV  A New Hope</td>\n",
       "      <td>Star Wars: Episode V The Empire Strikes Back</td>\n",
       "      <td>Star Wars: Episode VI Return of the Jedi</td>\n",
       "      <td>3</td>\n",
       "      <td>...</td>\n",
       "      <td>Very favorably</td>\n",
       "      <td>I don't understand this question</td>\n",
       "      <td>Yes</td>\n",
       "      <td>No</td>\n",
       "      <td>No</td>\n",
       "      <td>Male</td>\n",
       "      <td>18-29</td>\n",
       "      <td>NaN</td>\n",
       "      <td>High school degree</td>\n",
       "      <td>South Atlantic</td>\n",
       "    </tr>\n",
       "  </tbody>\n",
       "</table>\n",
       "<p>2 rows × 38 columns</p>\n",
       "</div>"
      ],
      "text/plain": [
       "   RespondentID Have you seen any of the 6 films in the Star Wars franchise?  \\\n",
       "0           NaN                                           Response             \n",
       "1  3.292880e+09                                                Yes             \n",
       "\n",
       "  Do you consider yourself to be a fan of the Star Wars film franchise?  \\\n",
       "0                                           Response                      \n",
       "1                                                Yes                      \n",
       "\n",
       "  Which of the following Star Wars films have you seen? Please select all that apply.  \\\n",
       "0           Star Wars: Episode I  The Phantom Menace                                    \n",
       "1           Star Wars: Episode I  The Phantom Menace                                    \n",
       "\n",
       "                                    Unnamed: 4  \\\n",
       "0  Star Wars: Episode II  Attack of the Clones   \n",
       "1  Star Wars: Episode II  Attack of the Clones   \n",
       "\n",
       "                                    Unnamed: 5  \\\n",
       "0  Star Wars: Episode III  Revenge of the Sith   \n",
       "1  Star Wars: Episode III  Revenge of the Sith   \n",
       "\n",
       "                          Unnamed: 6  \\\n",
       "0  Star Wars: Episode IV  A New Hope   \n",
       "1  Star Wars: Episode IV  A New Hope   \n",
       "\n",
       "                                     Unnamed: 7  \\\n",
       "0  Star Wars: Episode V The Empire Strikes Back   \n",
       "1  Star Wars: Episode V The Empire Strikes Back   \n",
       "\n",
       "                                 Unnamed: 8  \\\n",
       "0  Star Wars: Episode VI Return of the Jedi   \n",
       "1  Star Wars: Episode VI Return of the Jedi   \n",
       "\n",
       "  Please rank the Star Wars films in order of preference with 1 being your favorite film in the franchise and 6 being your least favorite film.  \\\n",
       "0           Star Wars: Episode I  The Phantom Menace                                                                                              \n",
       "1                                                  3                                                                                              \n",
       "\n",
       "            ...                Unnamed: 28       Which character shot first?  \\\n",
       "0           ...                       Yoda                          Response   \n",
       "1           ...             Very favorably  I don't understand this question   \n",
       "\n",
       "  Are you familiar with the Expanded Universe?  \\\n",
       "0                                     Response   \n",
       "1                                          Yes   \n",
       "\n",
       "  Do you consider yourself to be a fan of the Expanded Universe?æ  \\\n",
       "0                                           Response                 \n",
       "1                                                 No                 \n",
       "\n",
       "  Do you consider yourself to be a fan of the Star Trek franchise?    Gender  \\\n",
       "0                                           Response                Response   \n",
       "1                                                 No                    Male   \n",
       "\n",
       "        Age Household Income           Education Location (Census Region)  \n",
       "0  Response         Response            Response                 Response  \n",
       "1     18-29              NaN  High school degree           South Atlantic  \n",
       "\n",
       "[2 rows x 38 columns]"
      ]
     },
     "execution_count": 34,
     "metadata": {},
     "output_type": "execute_result"
    }
   ],
   "source": [
    "star_wars = pd.read_csv(\"StarWars.csv\", encoding=\"ISO-8859-1\")\n",
    "\n",
    "star_wars.head(2)"
   ]
  },
  {
   "cell_type": "markdown",
   "metadata": {
    "collapsed": true
   },
   "source": [
    "Checking the Columns"
   ]
  },
  {
   "cell_type": "code",
   "execution_count": null,
   "metadata": {
    "collapsed": true
   },
   "outputs": [],
   "source": [
    "\n"
   ]
  },
  {
   "cell_type": "code",
   "execution_count": 35,
   "metadata": {
    "collapsed": true
   },
   "outputs": [],
   "source": [
    "star_wars = star_wars[star_wars[\"RespondentID\"].notnull()]"
   ]
  },
  {
   "cell_type": "code",
   "execution_count": 36,
   "metadata": {},
   "outputs": [
    {
     "name": "stdout",
     "output_type": "stream",
     "text": [
      "   RespondentID Have you seen any of the 6 films in the Star Wars franchise?  \\\n",
      "1  3.292880e+09                                                Yes             \n",
      "\n",
      "  Do you consider yourself to be a fan of the Star Wars film franchise?  \\\n",
      "1                                                Yes                      \n",
      "\n",
      "  Which of the following Star Wars films have you seen? Please select all that apply.  \\\n",
      "1           Star Wars: Episode I  The Phantom Menace                                    \n",
      "\n",
      "                                    Unnamed: 4  \\\n",
      "1  Star Wars: Episode II  Attack of the Clones   \n",
      "\n",
      "                                    Unnamed: 5  \\\n",
      "1  Star Wars: Episode III  Revenge of the Sith   \n",
      "\n",
      "                          Unnamed: 6  \\\n",
      "1  Star Wars: Episode IV  A New Hope   \n",
      "\n",
      "                                     Unnamed: 7  \\\n",
      "1  Star Wars: Episode V The Empire Strikes Back   \n",
      "\n",
      "                                 Unnamed: 8  \\\n",
      "1  Star Wars: Episode VI Return of the Jedi   \n",
      "\n",
      "  Please rank the Star Wars films in order of preference with 1 being your favorite film in the franchise and 6 being your least favorite film.  \\\n",
      "1                                                  3                                                                                              \n",
      "\n",
      "            ...                Unnamed: 28       Which character shot first?  \\\n",
      "1           ...             Very favorably  I don't understand this question   \n",
      "\n",
      "  Are you familiar with the Expanded Universe?  \\\n",
      "1                                          Yes   \n",
      "\n",
      "  Do you consider yourself to be a fan of the Expanded Universe?æ  \\\n",
      "1                                                 No                 \n",
      "\n",
      "  Do you consider yourself to be a fan of the Star Trek franchise? Gender  \\\n",
      "1                                                 No                 Male   \n",
      "\n",
      "     Age Household Income           Education Location (Census Region)  \n",
      "1  18-29              NaN  High school degree           South Atlantic  \n",
      "\n",
      "[1 rows x 38 columns]\n"
     ]
    }
   ],
   "source": [
    "print(star_wars.head(1))\n",
    "\n",
    "yesnomap = {\"Yes\":True,\"No\":False}\n",
    "\n",
    "haveyouseen=star_wars[\"Have you seen any of the 6 films in the Star Wars franchise?\"]\n",
    "\n",
    "areyouafan = star_wars[\"Do you consider yourself to be a fan of the Star Wars film franchise?\"]\n",
    "\n",
    "\n",
    "\n",
    "\n",
    "\n"
   ]
  },
  {
   "cell_type": "code",
   "execution_count": 37,
   "metadata": {},
   "outputs": [
    {
     "name": "stdout",
     "output_type": "stream",
     "text": [
      "1    Yes\n",
      "2     No\n",
      "3    Yes\n",
      "4    Yes\n",
      "5    Yes\n",
      "Name: Have you seen any of the 6 films in the Star Wars franchise?, dtype: object\n",
      "1     True\n",
      "2    False\n",
      "3     True\n",
      "4     True\n",
      "5     True\n",
      "Name: Have you seen any of the 6 films in the Star Wars franchise?, dtype: bool\n"
     ]
    }
   ],
   "source": [
    "print(haveyouseen.head())\n",
    "yesnomap = {\"Yes\":True,\"No\":False}\n",
    "star_wars[\"Have you seen any of the 6 films in the Star Wars franchise?\"]  = haveyouseen.map(yesnomap)\n",
    "print(star_wars[\"Have you seen any of the 6 films in the Star Wars franchise?\"].head())"
   ]
  },
  {
   "cell_type": "code",
   "execution_count": 38,
   "metadata": {
    "collapsed": true
   },
   "outputs": [],
   "source": [
    "star_wars[\"Do you consider yourself to be a fan of the Star Wars film franchise?\"] = areyouafan.map(yesnomap)"
   ]
  },
  {
   "cell_type": "code",
   "execution_count": 39,
   "metadata": {},
   "outputs": [
    {
     "name": "stdout",
     "output_type": "stream",
     "text": [
      "1     True\n",
      "2      NaN\n",
      "3    False\n",
      "4     True\n",
      "5     True\n",
      "Name: Do you consider yourself to be a fan of the Star Wars film franchise?, dtype: object\n"
     ]
    }
   ],
   "source": [
    "print(star_wars[\"Do you consider yourself to be a fan of the Star Wars film franchise?\"].head())"
   ]
  },
  {
   "cell_type": "code",
   "execution_count": 40,
   "metadata": {},
   "outputs": [
    {
     "name": "stdout",
     "output_type": "stream",
     "text": [
      "['Which of the following Star Wars films have you seen? Please select all that apply.', 'Unnamed: 4', 'Unnamed: 5', 'Unnamed: 6', 'Unnamed: 7', 'Unnamed: 8']\n",
      "{'Which of the following Star Wars films have you seen? Please select all that apply.': 'seen_1', 'Unnamed: 4': 'seen_2', 'Unnamed: 5': 'seen_3', 'Unnamed: 6': 'seen_4', 'Unnamed: 7': 'seen_5', 'Unnamed: 8': 'seen_6'}\n"
     ]
    }
   ],
   "source": [
    "SW1 = {\"Star Wars: Episode I  The Phantom Menace\":True, np.NaN: False}\n",
    "\n",
    "oldcolnames = star_wars.columns[3:9].tolist()\n",
    "\n",
    "print(oldcolnames)\n",
    "renamecolsdic={}\n",
    "\n",
    "    \n",
    "for i,k in enumerate(oldcolnames):\n",
    "    renamecolsdic[oldcolnames[i]] = \"seen_{}\".format(i+1)\n",
    "    \n",
    "print(renamecolsdic)\n",
    "\n",
    "\n"
   ]
  },
  {
   "cell_type": "code",
   "execution_count": 41,
   "metadata": {
    "collapsed": true
   },
   "outputs": [],
   "source": [
    "star_wars = star_wars.rename(columns=renamecolsdic)"
   ]
  },
  {
   "cell_type": "code",
   "execution_count": 42,
   "metadata": {},
   "outputs": [
    {
     "name": "stdout",
     "output_type": "stream",
     "text": [
      "   RespondentID  Have you seen any of the 6 films in the Star Wars franchise?  \\\n",
      "1  3.292880e+09                                               True              \n",
      "2  3.292880e+09                                              False              \n",
      "\n",
      "  Do you consider yourself to be a fan of the Star Wars film franchise?  \\\n",
      "1                                               True                      \n",
      "2                                                NaN                      \n",
      "\n",
      "                                     seen_1  \\\n",
      "1  Star Wars: Episode I  The Phantom Menace   \n",
      "2                                       NaN   \n",
      "\n",
      "                                        seen_2  \\\n",
      "1  Star Wars: Episode II  Attack of the Clones   \n",
      "2                                          NaN   \n",
      "\n",
      "                                        seen_3  \\\n",
      "1  Star Wars: Episode III  Revenge of the Sith   \n",
      "2                                          NaN   \n",
      "\n",
      "                              seen_4  \\\n",
      "1  Star Wars: Episode IV  A New Hope   \n",
      "2                                NaN   \n",
      "\n",
      "                                         seen_5  \\\n",
      "1  Star Wars: Episode V The Empire Strikes Back   \n",
      "2                                           NaN   \n",
      "\n",
      "                                     seen_6  \\\n",
      "1  Star Wars: Episode VI Return of the Jedi   \n",
      "2                                       NaN   \n",
      "\n",
      "  Please rank the Star Wars films in order of preference with 1 being your favorite film in the franchise and 6 being your least favorite film.  \\\n",
      "1                                                  3                                                                                              \n",
      "2                                                NaN                                                                                              \n",
      "\n",
      "            ...                Unnamed: 28       Which character shot first?  \\\n",
      "1           ...             Very favorably  I don't understand this question   \n",
      "2           ...                        NaN                               NaN   \n",
      "\n",
      "  Are you familiar with the Expanded Universe?  \\\n",
      "1                                          Yes   \n",
      "2                                          NaN   \n",
      "\n",
      "  Do you consider yourself to be a fan of the Expanded Universe?æ  \\\n",
      "1                                                 No                 \n",
      "2                                                NaN                 \n",
      "\n",
      "  Do you consider yourself to be a fan of the Star Trek franchise? Gender  \\\n",
      "1                                                 No                 Male   \n",
      "2                                                Yes                 Male   \n",
      "\n",
      "     Age Household Income           Education Location (Census Region)  \n",
      "1  18-29              NaN  High school degree           South Atlantic  \n",
      "2  18-29     $0 - $24,999     Bachelor degree       West South Central  \n",
      "\n",
      "[2 rows x 38 columns]\n"
     ]
    }
   ],
   "source": [
    "print(star_wars.head(2))\n",
    "\n",
    "\n"
   ]
  },
  {
   "cell_type": "code",
   "execution_count": 43,
   "metadata": {
    "collapsed": true
   },
   "outputs": [],
   "source": [
    "yesnoSW1 = {\"Star Wars: Episode I  The Phantom Menace\":True, np.NaN:False}\n",
    "yesnoSW2 = {\"Star Wars: Episode II  Attack of the Clones\":True, np.NaN:False}\n",
    "yesnoSW3 = {\"Star Wars: Episode III  Revenge of the Sith\":True, np.NaN:False}\n",
    "yesnoSW4 = {\"Star Wars: Episode IV  A New Hope\":True, np.NaN:False}\n",
    "yesnoSW5 = {\"Star Wars: Episode V The Empire Strikes Back\":True, np.NaN:False}\n",
    "yesnoSW6 = {\"Star Wars: Episode VI Return of the Jedi\":True, np.NaN:False}"
   ]
  },
  {
   "cell_type": "code",
   "execution_count": 44,
   "metadata": {},
   "outputs": [
    {
     "data": {
      "text/plain": [
       "1       Star Wars: Episode II  Attack of the Clones\n",
       "2                                               NaN\n",
       "3       Star Wars: Episode II  Attack of the Clones\n",
       "4       Star Wars: Episode II  Attack of the Clones\n",
       "5       Star Wars: Episode II  Attack of the Clones\n",
       "6       Star Wars: Episode II  Attack of the Clones\n",
       "7       Star Wars: Episode II  Attack of the Clones\n",
       "8       Star Wars: Episode II  Attack of the Clones\n",
       "9       Star Wars: Episode II  Attack of the Clones\n",
       "10      Star Wars: Episode II  Attack of the Clones\n",
       "11                                              NaN\n",
       "12                                              NaN\n",
       "13      Star Wars: Episode II  Attack of the Clones\n",
       "14      Star Wars: Episode II  Attack of the Clones\n",
       "15      Star Wars: Episode II  Attack of the Clones\n",
       "16      Star Wars: Episode II  Attack of the Clones\n",
       "17                                              NaN\n",
       "18      Star Wars: Episode II  Attack of the Clones\n",
       "19      Star Wars: Episode II  Attack of the Clones\n",
       "20      Star Wars: Episode II  Attack of the Clones\n",
       "21      Star Wars: Episode II  Attack of the Clones\n",
       "22      Star Wars: Episode II  Attack of the Clones\n",
       "23      Star Wars: Episode II  Attack of the Clones\n",
       "24      Star Wars: Episode II  Attack of the Clones\n",
       "25      Star Wars: Episode II  Attack of the Clones\n",
       "26                                              NaN\n",
       "27      Star Wars: Episode II  Attack of the Clones\n",
       "28      Star Wars: Episode II  Attack of the Clones\n",
       "29      Star Wars: Episode II  Attack of the Clones\n",
       "30      Star Wars: Episode II  Attack of the Clones\n",
       "                           ...                     \n",
       "1157    Star Wars: Episode II  Attack of the Clones\n",
       "1158                                            NaN\n",
       "1159                                            NaN\n",
       "1160                                            NaN\n",
       "1161                                            NaN\n",
       "1162    Star Wars: Episode II  Attack of the Clones\n",
       "1163                                            NaN\n",
       "1164                                            NaN\n",
       "1165    Star Wars: Episode II  Attack of the Clones\n",
       "1166    Star Wars: Episode II  Attack of the Clones\n",
       "1167    Star Wars: Episode II  Attack of the Clones\n",
       "1168                                            NaN\n",
       "1169                                            NaN\n",
       "1170                                            NaN\n",
       "1171                                            NaN\n",
       "1172    Star Wars: Episode II  Attack of the Clones\n",
       "1173                                            NaN\n",
       "1174    Star Wars: Episode II  Attack of the Clones\n",
       "1175    Star Wars: Episode II  Attack of the Clones\n",
       "1176    Star Wars: Episode II  Attack of the Clones\n",
       "1177    Star Wars: Episode II  Attack of the Clones\n",
       "1178    Star Wars: Episode II  Attack of the Clones\n",
       "1179                                            NaN\n",
       "1180                                            NaN\n",
       "1181    Star Wars: Episode II  Attack of the Clones\n",
       "1182    Star Wars: Episode II  Attack of the Clones\n",
       "1183    Star Wars: Episode II  Attack of the Clones\n",
       "1184                                            NaN\n",
       "1185    Star Wars: Episode II  Attack of the Clones\n",
       "1186    Star Wars: Episode II  Attack of the Clones\n",
       "Name: seen_2, Length: 1186, dtype: object"
      ]
     },
     "execution_count": 44,
     "metadata": {},
     "output_type": "execute_result"
    }
   ],
   "source": [
    "star_wars[\"seen_2\"]"
   ]
  },
  {
   "cell_type": "code",
   "execution_count": 45,
   "metadata": {
    "collapsed": true
   },
   "outputs": [],
   "source": [
    "star_wars[\"seen_1\"] = star_wars[\"seen_1\"].map(yesnoSW1)\n",
    "star_wars[\"seen_2\"] = star_wars[\"seen_2\"].map(yesnoSW2)\n",
    "star_wars[\"seen_3\"] = star_wars[\"seen_3\"].map(yesnoSW3)\n",
    "star_wars[\"seen_4\"] = star_wars[\"seen_4\"].map(yesnoSW4)\n",
    "star_wars[\"seen_5\"] = star_wars[\"seen_5\"].map(yesnoSW5)\n",
    "star_wars[\"seen_6\"] = star_wars[\"seen_6\"].map(yesnoSW6)\n"
   ]
  },
  {
   "cell_type": "code",
   "execution_count": 46,
   "metadata": {
    "collapsed": true
   },
   "outputs": [],
   "source": [
    "star_wars[star_wars.columns[9:15]] = star_wars[star_wars.columns[9:15]].astype(float)\n",
    "rankcols=star_wars.columns[9:15].tolist()\n",
    "rankcolsdic = {}\n",
    "\n",
    "for i,k in enumerate(rankcols):\n",
    "    rankcolsdic[rankcols[i]] = \"ranking_{}\".format(i+1)\n",
    "    \n",
    "\n",
    "    \n",
    "\n",
    "    \n",
    "star_wars = star_wars.rename(columns=rankcolsdic)"
   ]
  },
  {
   "cell_type": "code",
   "execution_count": 47,
   "metadata": {
    "scrolled": false
   },
   "outputs": [
    {
     "name": "stdout",
     "output_type": "stream",
     "text": [
      "   ranking_1  ranking_2  ranking_3  ranking_4  ranking_5  ranking_6\n",
      "1        3.0        2.0        1.0        4.0        5.0        6.0\n",
      "2        NaN        NaN        NaN        NaN        NaN        NaN\n",
      "3        1.0        2.0        3.0        4.0        5.0        6.0\n",
      "4        5.0        6.0        1.0        2.0        4.0        3.0\n",
      "5        5.0        4.0        6.0        2.0        1.0        3.0\n"
     ]
    }
   ],
   "source": [
    "print(star_wars[star_wars.columns[9:15]].head(5))"
   ]
  },
  {
   "cell_type": "code",
   "execution_count": null,
   "metadata": {
    "collapsed": true
   },
   "outputs": [],
   "source": []
  },
  {
   "cell_type": "code",
   "execution_count": 48,
   "metadata": {},
   "outputs": [
    {
     "data": {
      "image/png": "[encoded data removed]",
      "text/plain": [
       "<matplotlib.figure.Figure at 0x7f52f49865f8>"
      ]
     },
     "metadata": {},
     "output_type": "display_data"
    }
   ],
   "source": [
    "fig,ax = plt.subplots()\n",
    "\n",
    "ax.bar(star_wars.columns[9:15],star_wars[star_wars.columns[9:15]].mean())\n",
    "\n",
    "ax.set_xticklabels(star_wars.columns[9:15],rotation=90)\n",
    "\n",
    "\n",
    "ax.tick_params(bottom='off', left='off', right='off', top='off')\n",
    "ax.spines[\"right\"].set_visible(False)\n",
    "ax.spines[\"left\"].set_visible(False)\n",
    "ax.spines[\"top\"].set_visible(False)\n",
    "ax.spines[\"bottom\"].set_visible(False)"
   ]
  },
  {
   "cell_type": "code",
   "execution_count": 49,
   "metadata": {},
   "outputs": [
    {
     "data": {
      "image/png": "[encoded data removed]",
      "text/plain": [
       "<matplotlib.figure.Figure at 0x7f52f49860f0>"
      ]
     },
     "metadata": {},
     "output_type": "display_data"
    }
   ],
   "source": [
    "fig,ax = plt.subplots()\n",
    "\n",
    "ax.bar(star_wars.columns[3:9],star_wars[star_wars.columns[9:15]].sum())\n",
    "\n",
    "ax.set_xticklabels(star_wars.columns[3:9],rotation=90)\n",
    "\n",
    "\n",
    "\n",
    "ax.tick_params(bottom='off', left='off', right='off', top='off')\n",
    "ax.spines[\"right\"].set_visible(False)\n",
    "ax.spines[\"left\"].set_visible(False)\n",
    "ax.spines[\"top\"].set_visible(False)\n",
    "ax.spines[\"bottom\"].set_visible(False)"
   ]
  },
  {
   "cell_type": "code",
   "execution_count": null,
   "metadata": {
    "collapsed": true
   },
   "outputs": [],
   "source": []
  },
  {
   "cell_type": "code",
   "execution_count": 50,
   "metadata": {
    "collapsed": true
   },
   "outputs": [],
   "source": [
    "males = star_wars[star_wars[\"Gender\"]==\"Male\"]\n",
    "females = star_wars[star_wars[\"Gender\"]==\"Female\"]\n",
    "\n"
   ]
  },
  {
   "cell_type": "code",
   "execution_count": 51,
   "metadata": {},
   "outputs": [
    {
     "data": {
      "text/plain": [
       "Text(0.5,1,'What do Dudes think?')"
      ]
     },
     "execution_count": 51,
     "metadata": {},
     "output_type": "execute_result"
    },
    {
     "data": {
      "image/png": "[encoded data removed]",
      "text/plain": [
       "<matplotlib.figure.Figure at 0x7f52f4840b00>"
      ]
     },
     "metadata": {},
     "output_type": "display_data"
    }
   ],
   "source": [
    "fig,ax = plt.subplots()\n",
    "\n",
    "ax.bar(males.columns[9:15],males[males.columns[9:15]].mean())\n",
    "\n",
    "ax.set_xticklabels(males.columns[9:15],rotation=90)\n",
    "ax.set_ylim(0,5)\n",
    "\n",
    "\n",
    "ax.tick_params(bottom='off', left='off', right='off', top='off')\n",
    "ax.spines[\"right\"].set_visible(False)\n",
    "ax.spines[\"left\"].set_visible(False)\n",
    "ax.spines[\"top\"].set_visible(False)\n",
    "ax.spines[\"bottom\"].set_visible(False)\n",
    "ax.set_title(\"What do Dudes think?\")"
   ]
  },
  {
   "cell_type": "code",
   "execution_count": 52,
   "metadata": {},
   "outputs": [
    {
     "data": {
      "text/plain": [
       "Text(0.5,1,'What about chicks?')"
      ]
     },
     "execution_count": 52,
     "metadata": {},
     "output_type": "execute_result"
    },
    {
     "data": {
      "image/png": "[encoded data removed]",
      "text/plain": [
       "<matplotlib.figure.Figure at 0x7f52f49e1198>"
      ]
     },
     "metadata": {},
     "output_type": "display_data"
    }
   ],
   "source": [
    "fig,ax = plt.subplots()\n",
    "\n",
    "ax.bar(females.columns[9:15],females[females.columns[9:15]].mean())\n",
    "\n",
    "ax.set_xticklabels(females.columns[9:15],rotation=90)\n",
    "ax.set_ylim(0,5)\n",
    "\n",
    "ax.tick_params(bottom='off', left='off', right='off', top='off')\n",
    "ax.spines[\"right\"].set_visible(False)\n",
    "ax.spines[\"left\"].set_visible(False)\n",
    "ax.spines[\"top\"].set_visible(False)\n",
    "ax.spines[\"bottom\"].set_visible(False)\n",
    "ax.set_title(\"What about chicks?\")"
   ]
  },
  {
   "cell_type": "code",
   "execution_count": 53,
   "metadata": {},
   "outputs": [],
   "source": [
    "star_wars[\"Do you consider yourself to be a fan of the Star Trek franchise?\"]= star_wars[\"Do you consider yourself to be a fan of the Star Trek franchise?\"].map(yesnomap)\n",
    "\n"
   ]
  },
  {
   "cell_type": "code",
   "execution_count": 55,
   "metadata": {},
   "outputs": [
    {
     "data": {
      "text/plain": [
       "False    641\n",
       "True     427\n",
       "dtype: int64"
      ]
     },
     "execution_count": 55,
     "metadata": {},
     "output_type": "execute_result"
    }
   ],
   "source": [
    "pd.value_counts(star_wars[\"Do you consider yourself to be a fan of the Star Trek franchise?\"].values)\n"
   ]
  },
  {
   "cell_type": "code",
   "execution_count": 66,
   "metadata": {},
   "outputs": [],
   "source": [
    "star_trek_fan = star_wars[star_wars[\"Do you consider yourself to be a fan of the Star Trek franchise?\"] == True]\n",
    "star_trek_nonfan = star_wars[star_wars[\"Do you consider yourself to be a fan of the Star Trek franchise?\"] == False]\n"
   ]
  },
  {
   "cell_type": "code",
   "execution_count": 68,
   "metadata": {},
   "outputs": [
    {
     "data": {
      "text/plain": [
       "Text(0.5,1,'Rankings by Star Trek Fans')"
      ]
     },
     "execution_count": 68,
     "metadata": {},
     "output_type": "execute_result"
    },
    {
     "data": {
      "image/png": "[encoded data removed]",
      "text/plain": [
       "<matplotlib.figure.Figure at 0x7f52f48c9b38>"
      ]
     },
     "metadata": {},
     "output_type": "display_data"
    }
   ],
   "source": [
    "fig,ax = plt.subplots()\n",
    "\n",
    "ax.bar(star_trek_fan.columns[9:15],star_trek_fan[star_trek_fan.columns[9:15]].mean())\n",
    "\n",
    "ax.set_xticklabels(star_trek_fan.columns[9:15],rotation=90)\n",
    "ax.set_ylim(0,5)\n",
    "\n",
    "ax.tick_params(bottom='off', left='off', right='off', top='off')\n",
    "ax.spines[\"right\"].set_visible(False)\n",
    "ax.spines[\"left\"].set_visible(False)\n",
    "ax.spines[\"top\"].set_visible(False)\n",
    "ax.spines[\"bottom\"].set_visible(False)\n",
    "ax.set_title(\"Rankings by Star Trek Fans\")"
   ]
  },
  {
   "cell_type": "code",
   "execution_count": 69,
   "metadata": {},
   "outputs": [
    {
     "data": {
      "text/plain": [
       "Text(0.5,1,'Rankings by Star Trek Haters')"
      ]
     },
     "execution_count": 69,
     "metadata": {},
     "output_type": "execute_result"
    },
    {
     "data": {
      "image/png": "[encoded data removed]",
      "text/plain": [
       "<matplotlib.figure.Figure at 0x7f52f4a0e080>"
      ]
     },
     "metadata": {},
     "output_type": "display_data"
    }
   ],
   "source": [
    "fig,ax = plt.subplots()\n",
    "\n",
    "ax.bar(star_trek_nonfan.columns[9:15],star_trek_nonfan[star_trek_nonfan.columns[9:15]].mean())\n",
    "\n",
    "ax.set_xticklabels(star_trek_nonfan.columns[9:15],rotation=90)\n",
    "ax.set_ylim(0,5)\n",
    "\n",
    "ax.tick_params(bottom='off', left='off', right='off', top='off')\n",
    "ax.spines[\"right\"].set_visible(False)\n",
    "ax.spines[\"left\"].set_visible(False)\n",
    "ax.spines[\"top\"].set_visible(False)\n",
    "ax.spines[\"bottom\"].set_visible(False)\n",
    "ax.set_title(\"Rankings by Star Trek Haters\")"
   ]
  },
  {
   "cell_type": "code",
   "execution_count": null,
   "metadata": {
    "collapsed": true
   },
   "outputs": [],
   "source": []
  }
 ],
 "metadata": {
  "kernelspec": {
   "display_name": "Python 3",
   "language": "python",
   "name": "python3"
  },
  "language_info": {
   "codemirror_mode": {
    "name": "ipython",
    "version": 3
   },
   "file_extension": ".py",
   "mimetype": "text/x-python",
   "name": "python",
   "nbconvert_exporter": "python",
   "pygments_lexer": "ipython3",
   "version": "3.6.3"
  }
 },
 "nbformat": 4,
 "nbformat_minor": 2
}
